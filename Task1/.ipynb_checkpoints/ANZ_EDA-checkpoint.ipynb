{
 "cells": [
  {
   "cell_type": "code",
   "execution_count": 113,
   "metadata": {},
   "outputs": [],
   "source": [
    "# import basic libraries\n",
    "import pandas as pd\n",
    "import datetime\n",
    "import matplotlib.pyplot as plt\n",
    "import seaborn as sns\n",
    "import numpy as np\n",
    "from scipy.stats import norm\n",
    "from sklearn.preprocessing import StandardScaler\n",
    "from scipy import stats\n",
    "import warnings\n",
    "warnings.filterwarnings('ignore')\n",
    "%matplotlib inline"
   ]
  },
  {
   "cell_type": "markdown",
   "metadata": {},
   "source": [
    "This task is based on a synthesised transaction dataset containing 3 months’ worth of transactions for 100 hypothetical customers. It contains purchases, recurring transactions, and salary transactions.\n",
    "\n",
    "The dataset is designed to simulate realistic transaction behaviours that are observed in ANZ’s real transaction data, so many of the insights you can gather from the tasks below will be genuine."
   ]
  },
  {
   "cell_type": "code",
   "execution_count": 114,
   "metadata": {},
   "outputs": [],
   "source": [
    "data = pd.read_csv('./ANZdataset.csv')"
   ]
  },
  {
   "cell_type": "code",
   "execution_count": 115,
   "metadata": {
    "scrolled": true
   },
   "outputs": [
    {
     "data": {
      "text/html": [
       "<div>\n",
       "<style scoped>\n",
       "    .dataframe tbody tr th:only-of-type {\n",
       "        vertical-align: middle;\n",
       "    }\n",
       "\n",
       "    .dataframe tbody tr th {\n",
       "        vertical-align: top;\n",
       "    }\n",
       "\n",
       "    .dataframe thead th {\n",
       "        text-align: right;\n",
       "    }\n",
       "</style>\n",
       "<table border=\"1\" class=\"dataframe\">\n",
       "  <thead>\n",
       "    <tr style=\"text-align: right;\">\n",
       "      <th></th>\n",
       "      <th>status</th>\n",
       "      <th>card_present_flag</th>\n",
       "      <th>bpay_biller_code</th>\n",
       "      <th>account</th>\n",
       "      <th>currency</th>\n",
       "      <th>long_lat</th>\n",
       "      <th>txn_description</th>\n",
       "      <th>merchant_id</th>\n",
       "      <th>merchant_code</th>\n",
       "      <th>first_name</th>\n",
       "      <th>...</th>\n",
       "      <th>age</th>\n",
       "      <th>merchant_suburb</th>\n",
       "      <th>merchant_state</th>\n",
       "      <th>extraction</th>\n",
       "      <th>amount</th>\n",
       "      <th>transaction_id</th>\n",
       "      <th>country</th>\n",
       "      <th>customer_id</th>\n",
       "      <th>merchant_long_lat</th>\n",
       "      <th>movement</th>\n",
       "    </tr>\n",
       "  </thead>\n",
       "  <tbody>\n",
       "    <tr>\n",
       "      <th>0</th>\n",
       "      <td>authorized</td>\n",
       "      <td>1.0</td>\n",
       "      <td>NaN</td>\n",
       "      <td>ACC-1598451071</td>\n",
       "      <td>AUD</td>\n",
       "      <td>153.41 -27.95</td>\n",
       "      <td>POS</td>\n",
       "      <td>81c48296-73be-44a7-befa-d053f48ce7cd</td>\n",
       "      <td>NaN</td>\n",
       "      <td>Diana</td>\n",
       "      <td>...</td>\n",
       "      <td>26</td>\n",
       "      <td>Ashmore</td>\n",
       "      <td>QLD</td>\n",
       "      <td>2018-08-01T01:01:15.000+0000</td>\n",
       "      <td>16.25</td>\n",
       "      <td>a623070bfead4541a6b0fff8a09e706c</td>\n",
       "      <td>Australia</td>\n",
       "      <td>CUS-2487424745</td>\n",
       "      <td>153.38 -27.99</td>\n",
       "      <td>debit</td>\n",
       "    </tr>\n",
       "    <tr>\n",
       "      <th>1</th>\n",
       "      <td>authorized</td>\n",
       "      <td>0.0</td>\n",
       "      <td>NaN</td>\n",
       "      <td>ACC-1598451071</td>\n",
       "      <td>AUD</td>\n",
       "      <td>153.41 -27.95</td>\n",
       "      <td>SALES-POS</td>\n",
       "      <td>830a451c-316e-4a6a-bf25-e37caedca49e</td>\n",
       "      <td>NaN</td>\n",
       "      <td>Diana</td>\n",
       "      <td>...</td>\n",
       "      <td>26</td>\n",
       "      <td>Sydney</td>\n",
       "      <td>NSW</td>\n",
       "      <td>2018-08-01T01:13:45.000+0000</td>\n",
       "      <td>14.19</td>\n",
       "      <td>13270a2a902145da9db4c951e04b51b9</td>\n",
       "      <td>Australia</td>\n",
       "      <td>CUS-2487424745</td>\n",
       "      <td>151.21 -33.87</td>\n",
       "      <td>debit</td>\n",
       "    </tr>\n",
       "    <tr>\n",
       "      <th>2</th>\n",
       "      <td>authorized</td>\n",
       "      <td>1.0</td>\n",
       "      <td>NaN</td>\n",
       "      <td>ACC-1222300524</td>\n",
       "      <td>AUD</td>\n",
       "      <td>151.23 -33.94</td>\n",
       "      <td>POS</td>\n",
       "      <td>835c231d-8cdf-4e96-859d-e9d571760cf0</td>\n",
       "      <td>NaN</td>\n",
       "      <td>Michael</td>\n",
       "      <td>...</td>\n",
       "      <td>38</td>\n",
       "      <td>Sydney</td>\n",
       "      <td>NSW</td>\n",
       "      <td>2018-08-01T01:26:15.000+0000</td>\n",
       "      <td>6.42</td>\n",
       "      <td>feb79e7ecd7048a5a36ec889d1a94270</td>\n",
       "      <td>Australia</td>\n",
       "      <td>CUS-2142601169</td>\n",
       "      <td>151.21 -33.87</td>\n",
       "      <td>debit</td>\n",
       "    </tr>\n",
       "    <tr>\n",
       "      <th>3</th>\n",
       "      <td>authorized</td>\n",
       "      <td>1.0</td>\n",
       "      <td>NaN</td>\n",
       "      <td>ACC-1037050564</td>\n",
       "      <td>AUD</td>\n",
       "      <td>153.10 -27.66</td>\n",
       "      <td>SALES-POS</td>\n",
       "      <td>48514682-c78a-4a88-b0da-2d6302e64673</td>\n",
       "      <td>NaN</td>\n",
       "      <td>Rhonda</td>\n",
       "      <td>...</td>\n",
       "      <td>40</td>\n",
       "      <td>Buderim</td>\n",
       "      <td>QLD</td>\n",
       "      <td>2018-08-01T01:38:45.000+0000</td>\n",
       "      <td>40.90</td>\n",
       "      <td>2698170da3704fd981b15e64a006079e</td>\n",
       "      <td>Australia</td>\n",
       "      <td>CUS-1614226872</td>\n",
       "      <td>153.05 -26.68</td>\n",
       "      <td>debit</td>\n",
       "    </tr>\n",
       "    <tr>\n",
       "      <th>4</th>\n",
       "      <td>authorized</td>\n",
       "      <td>1.0</td>\n",
       "      <td>NaN</td>\n",
       "      <td>ACC-1598451071</td>\n",
       "      <td>AUD</td>\n",
       "      <td>153.41 -27.95</td>\n",
       "      <td>SALES-POS</td>\n",
       "      <td>b4e02c10-0852-4273-b8fd-7b3395e32eb0</td>\n",
       "      <td>NaN</td>\n",
       "      <td>Diana</td>\n",
       "      <td>...</td>\n",
       "      <td>26</td>\n",
       "      <td>Mermaid Beach</td>\n",
       "      <td>QLD</td>\n",
       "      <td>2018-08-01T01:51:15.000+0000</td>\n",
       "      <td>3.25</td>\n",
       "      <td>329adf79878c4cf0aeb4188b4691c266</td>\n",
       "      <td>Australia</td>\n",
       "      <td>CUS-2487424745</td>\n",
       "      <td>153.44 -28.06</td>\n",
       "      <td>debit</td>\n",
       "    </tr>\n",
       "  </tbody>\n",
       "</table>\n",
       "<p>5 rows × 23 columns</p>\n",
       "</div>"
      ],
      "text/plain": [
       "       status  card_present_flag bpay_biller_code         account currency  \\\n",
       "0  authorized                1.0              NaN  ACC-1598451071      AUD   \n",
       "1  authorized                0.0              NaN  ACC-1598451071      AUD   \n",
       "2  authorized                1.0              NaN  ACC-1222300524      AUD   \n",
       "3  authorized                1.0              NaN  ACC-1037050564      AUD   \n",
       "4  authorized                1.0              NaN  ACC-1598451071      AUD   \n",
       "\n",
       "        long_lat txn_description                           merchant_id  \\\n",
       "0  153.41 -27.95             POS  81c48296-73be-44a7-befa-d053f48ce7cd   \n",
       "1  153.41 -27.95       SALES-POS  830a451c-316e-4a6a-bf25-e37caedca49e   \n",
       "2  151.23 -33.94             POS  835c231d-8cdf-4e96-859d-e9d571760cf0   \n",
       "3  153.10 -27.66       SALES-POS  48514682-c78a-4a88-b0da-2d6302e64673   \n",
       "4  153.41 -27.95       SALES-POS  b4e02c10-0852-4273-b8fd-7b3395e32eb0   \n",
       "\n",
       "   merchant_code first_name  ...  age merchant_suburb merchant_state  \\\n",
       "0            NaN      Diana  ...   26         Ashmore            QLD   \n",
       "1            NaN      Diana  ...   26          Sydney            NSW   \n",
       "2            NaN    Michael  ...   38          Sydney            NSW   \n",
       "3            NaN     Rhonda  ...   40         Buderim            QLD   \n",
       "4            NaN      Diana  ...   26   Mermaid Beach            QLD   \n",
       "\n",
       "                     extraction amount                    transaction_id  \\\n",
       "0  2018-08-01T01:01:15.000+0000  16.25  a623070bfead4541a6b0fff8a09e706c   \n",
       "1  2018-08-01T01:13:45.000+0000  14.19  13270a2a902145da9db4c951e04b51b9   \n",
       "2  2018-08-01T01:26:15.000+0000   6.42  feb79e7ecd7048a5a36ec889d1a94270   \n",
       "3  2018-08-01T01:38:45.000+0000  40.90  2698170da3704fd981b15e64a006079e   \n",
       "4  2018-08-01T01:51:15.000+0000   3.25  329adf79878c4cf0aeb4188b4691c266   \n",
       "\n",
       "     country     customer_id merchant_long_lat movement  \n",
       "0  Australia  CUS-2487424745     153.38 -27.99    debit  \n",
       "1  Australia  CUS-2487424745     151.21 -33.87    debit  \n",
       "2  Australia  CUS-2142601169     151.21 -33.87    debit  \n",
       "3  Australia  CUS-1614226872     153.05 -26.68    debit  \n",
       "4  Australia  CUS-2487424745     153.44 -28.06    debit  \n",
       "\n",
       "[5 rows x 23 columns]"
      ]
     },
     "execution_count": 115,
     "metadata": {},
     "output_type": "execute_result"
    }
   ],
   "source": [
    "data.head()"
   ]
  },
  {
   "cell_type": "code",
   "execution_count": 116,
   "metadata": {
    "scrolled": false
   },
   "outputs": [
    {
     "data": {
      "text/plain": [
       "Index(['status', 'card_present_flag', 'bpay_biller_code', 'account',\n",
       "       'currency', 'long_lat', 'txn_description', 'merchant_id',\n",
       "       'merchant_code', 'first_name', 'balance', 'date', 'gender', 'age',\n",
       "       'merchant_suburb', 'merchant_state', 'extraction', 'amount',\n",
       "       'transaction_id', 'country', 'customer_id', 'merchant_long_lat',\n",
       "       'movement'],\n",
       "      dtype='object')"
      ]
     },
     "execution_count": 116,
     "metadata": {},
     "output_type": "execute_result"
    }
   ],
   "source": [
    "data.columns"
   ]
  },
  {
   "cell_type": "code",
   "execution_count": 117,
   "metadata": {},
   "outputs": [
    {
     "data": {
      "text/plain": [
       "100"
      ]
     },
     "execution_count": 117,
     "metadata": {},
     "output_type": "execute_result"
    }
   ],
   "source": [
    "#verifying number of unique accounts\n",
    "data[\"account\"].nunique()"
   ]
  },
  {
   "cell_type": "code",
   "execution_count": 118,
   "metadata": {
    "scrolled": true
   },
   "outputs": [
    {
     "name": "stdout",
     "output_type": "stream",
     "text": [
      "Data type of each column of Dataframe :\n",
      "status                object\n",
      "card_present_flag    float64\n",
      "bpay_biller_code      object\n",
      "account               object\n",
      "currency              object\n",
      "long_lat              object\n",
      "txn_description       object\n",
      "merchant_id           object\n",
      "merchant_code        float64\n",
      "first_name            object\n",
      "balance              float64\n",
      "date                  object\n",
      "gender                object\n",
      "age                    int64\n",
      "merchant_suburb       object\n",
      "merchant_state        object\n",
      "extraction            object\n",
      "amount               float64\n",
      "transaction_id        object\n",
      "country               object\n",
      "customer_id           object\n",
      "merchant_long_lat     object\n",
      "movement              object\n",
      "dtype: object\n"
     ]
    }
   ],
   "source": [
    "print('Data type of each column of Dataframe :')\n",
    "print(data.dtypes)"
   ]
  },
  {
   "cell_type": "code",
   "execution_count": 119,
   "metadata": {
    "scrolled": true
   },
   "outputs": [
    {
     "data": {
      "text/html": [
       "<div>\n",
       "<style scoped>\n",
       "    .dataframe tbody tr th:only-of-type {\n",
       "        vertical-align: middle;\n",
       "    }\n",
       "\n",
       "    .dataframe tbody tr th {\n",
       "        vertical-align: top;\n",
       "    }\n",
       "\n",
       "    .dataframe thead th {\n",
       "        text-align: right;\n",
       "    }\n",
       "</style>\n",
       "<table border=\"1\" class=\"dataframe\">\n",
       "  <thead>\n",
       "    <tr style=\"text-align: right;\">\n",
       "      <th></th>\n",
       "      <th>card_present_flag</th>\n",
       "      <th>merchant_code</th>\n",
       "      <th>balance</th>\n",
       "      <th>age</th>\n",
       "      <th>amount</th>\n",
       "    </tr>\n",
       "  </thead>\n",
       "  <tbody>\n",
       "    <tr>\n",
       "      <th>count</th>\n",
       "      <td>7717.000000</td>\n",
       "      <td>883.0</td>\n",
       "      <td>12043.000000</td>\n",
       "      <td>12043.000000</td>\n",
       "      <td>12043.000000</td>\n",
       "    </tr>\n",
       "    <tr>\n",
       "      <th>mean</th>\n",
       "      <td>0.802644</td>\n",
       "      <td>0.0</td>\n",
       "      <td>14704.195553</td>\n",
       "      <td>30.582330</td>\n",
       "      <td>187.933588</td>\n",
       "    </tr>\n",
       "    <tr>\n",
       "      <th>std</th>\n",
       "      <td>0.398029</td>\n",
       "      <td>0.0</td>\n",
       "      <td>31503.722652</td>\n",
       "      <td>10.046343</td>\n",
       "      <td>592.599934</td>\n",
       "    </tr>\n",
       "    <tr>\n",
       "      <th>min</th>\n",
       "      <td>0.000000</td>\n",
       "      <td>0.0</td>\n",
       "      <td>0.240000</td>\n",
       "      <td>18.000000</td>\n",
       "      <td>0.100000</td>\n",
       "    </tr>\n",
       "    <tr>\n",
       "      <th>25%</th>\n",
       "      <td>1.000000</td>\n",
       "      <td>0.0</td>\n",
       "      <td>3158.585000</td>\n",
       "      <td>22.000000</td>\n",
       "      <td>16.000000</td>\n",
       "    </tr>\n",
       "    <tr>\n",
       "      <th>50%</th>\n",
       "      <td>1.000000</td>\n",
       "      <td>0.0</td>\n",
       "      <td>6432.010000</td>\n",
       "      <td>28.000000</td>\n",
       "      <td>29.000000</td>\n",
       "    </tr>\n",
       "    <tr>\n",
       "      <th>75%</th>\n",
       "      <td>1.000000</td>\n",
       "      <td>0.0</td>\n",
       "      <td>12465.945000</td>\n",
       "      <td>38.000000</td>\n",
       "      <td>53.655000</td>\n",
       "    </tr>\n",
       "    <tr>\n",
       "      <th>max</th>\n",
       "      <td>1.000000</td>\n",
       "      <td>0.0</td>\n",
       "      <td>267128.520000</td>\n",
       "      <td>78.000000</td>\n",
       "      <td>8835.980000</td>\n",
       "    </tr>\n",
       "  </tbody>\n",
       "</table>\n",
       "</div>"
      ],
      "text/plain": [
       "       card_present_flag  merchant_code        balance           age  \\\n",
       "count        7717.000000          883.0   12043.000000  12043.000000   \n",
       "mean            0.802644            0.0   14704.195553     30.582330   \n",
       "std             0.398029            0.0   31503.722652     10.046343   \n",
       "min             0.000000            0.0       0.240000     18.000000   \n",
       "25%             1.000000            0.0    3158.585000     22.000000   \n",
       "50%             1.000000            0.0    6432.010000     28.000000   \n",
       "75%             1.000000            0.0   12465.945000     38.000000   \n",
       "max             1.000000            0.0  267128.520000     78.000000   \n",
       "\n",
       "             amount  \n",
       "count  12043.000000  \n",
       "mean     187.933588  \n",
       "std      592.599934  \n",
       "min        0.100000  \n",
       "25%       16.000000  \n",
       "50%       29.000000  \n",
       "75%       53.655000  \n",
       "max     8835.980000  "
      ]
     },
     "execution_count": 119,
     "metadata": {},
     "output_type": "execute_result"
    }
   ],
   "source": [
    "#statistical description of continuous variables.\n",
    "data.describe() "
   ]
  },
  {
   "cell_type": "code",
   "execution_count": 120,
   "metadata": {},
   "outputs": [
    {
     "data": {
      "text/plain": [
       "status                   0\n",
       "card_present_flag     4326\n",
       "bpay_biller_code     11158\n",
       "account                  0\n",
       "currency                 0\n",
       "long_lat                 0\n",
       "txn_description          0\n",
       "merchant_id           4326\n",
       "merchant_code        11160\n",
       "first_name               0\n",
       "balance                  0\n",
       "date                     0\n",
       "gender                   0\n",
       "age                      0\n",
       "merchant_suburb       4326\n",
       "merchant_state        4326\n",
       "extraction               0\n",
       "amount                   0\n",
       "transaction_id           0\n",
       "country                  0\n",
       "customer_id              0\n",
       "merchant_long_lat     4326\n",
       "movement                 0\n",
       "dtype: int64"
      ]
     },
     "execution_count": 120,
     "metadata": {},
     "output_type": "execute_result"
    }
   ],
   "source": [
    "#checking for total null values\n",
    "data.isnull().sum() "
   ]
  },
  {
   "cell_type": "markdown",
   "metadata": {},
   "source": [
    "Preliminary Understanding of the Dataset\n",
    "\n",
    "The dataset contains 12043 rows of transactions of 100 unique customers. For each row, innformation is complete for most of the columns, with the exception of 'card_present_flag', bpay_biller_code, merchant_id, merchant_code, merchant_suburb, merchant_state, and 'merchant_long_lat'. This is likely due to the type of transaction where not every transaction is involved with a merchants (such as PAY/SALARY).\n",
    "\n",
    "Some of the columns can be dropped as they will not be very useful for our analysis or contain too many NaN values."
   ]
  },
  {
   "cell_type": "code",
   "execution_count": 121,
   "metadata": {
    "scrolled": true
   },
   "outputs": [
    {
     "data": {
      "text/html": [
       "<div>\n",
       "<style scoped>\n",
       "    .dataframe tbody tr th:only-of-type {\n",
       "        vertical-align: middle;\n",
       "    }\n",
       "\n",
       "    .dataframe tbody tr th {\n",
       "        vertical-align: top;\n",
       "    }\n",
       "\n",
       "    .dataframe thead th {\n",
       "        text-align: right;\n",
       "    }\n",
       "</style>\n",
       "<table border=\"1\" class=\"dataframe\">\n",
       "  <thead>\n",
       "    <tr style=\"text-align: right;\">\n",
       "      <th></th>\n",
       "      <th>status</th>\n",
       "      <th>txn_description</th>\n",
       "      <th>balance</th>\n",
       "      <th>date</th>\n",
       "      <th>gender</th>\n",
       "      <th>age</th>\n",
       "      <th>amount</th>\n",
       "      <th>customer_id</th>\n",
       "      <th>long_lat</th>\n",
       "      <th>merchant_long_lat</th>\n",
       "      <th>movement</th>\n",
       "      <th>month</th>\n",
       "    </tr>\n",
       "  </thead>\n",
       "  <tbody>\n",
       "    <tr>\n",
       "      <th>0</th>\n",
       "      <td>authorized</td>\n",
       "      <td>POS</td>\n",
       "      <td>35.39</td>\n",
       "      <td>1/8/18</td>\n",
       "      <td>F</td>\n",
       "      <td>26</td>\n",
       "      <td>16.25</td>\n",
       "      <td>CUS-2487424745</td>\n",
       "      <td>153.41 -27.95</td>\n",
       "      <td>153.38 -27.99</td>\n",
       "      <td>debit</td>\n",
       "      <td>8</td>\n",
       "    </tr>\n",
       "    <tr>\n",
       "      <th>1</th>\n",
       "      <td>authorized</td>\n",
       "      <td>SALES-POS</td>\n",
       "      <td>21.20</td>\n",
       "      <td>1/8/18</td>\n",
       "      <td>F</td>\n",
       "      <td>26</td>\n",
       "      <td>14.19</td>\n",
       "      <td>CUS-2487424745</td>\n",
       "      <td>153.41 -27.95</td>\n",
       "      <td>151.21 -33.87</td>\n",
       "      <td>debit</td>\n",
       "      <td>8</td>\n",
       "    </tr>\n",
       "    <tr>\n",
       "      <th>2</th>\n",
       "      <td>authorized</td>\n",
       "      <td>POS</td>\n",
       "      <td>5.71</td>\n",
       "      <td>1/8/18</td>\n",
       "      <td>M</td>\n",
       "      <td>38</td>\n",
       "      <td>6.42</td>\n",
       "      <td>CUS-2142601169</td>\n",
       "      <td>151.23 -33.94</td>\n",
       "      <td>151.21 -33.87</td>\n",
       "      <td>debit</td>\n",
       "      <td>8</td>\n",
       "    </tr>\n",
       "    <tr>\n",
       "      <th>3</th>\n",
       "      <td>authorized</td>\n",
       "      <td>SALES-POS</td>\n",
       "      <td>2117.22</td>\n",
       "      <td>1/8/18</td>\n",
       "      <td>F</td>\n",
       "      <td>40</td>\n",
       "      <td>40.90</td>\n",
       "      <td>CUS-1614226872</td>\n",
       "      <td>153.10 -27.66</td>\n",
       "      <td>153.05 -26.68</td>\n",
       "      <td>debit</td>\n",
       "      <td>8</td>\n",
       "    </tr>\n",
       "    <tr>\n",
       "      <th>4</th>\n",
       "      <td>authorized</td>\n",
       "      <td>SALES-POS</td>\n",
       "      <td>17.95</td>\n",
       "      <td>1/8/18</td>\n",
       "      <td>F</td>\n",
       "      <td>26</td>\n",
       "      <td>3.25</td>\n",
       "      <td>CUS-2487424745</td>\n",
       "      <td>153.41 -27.95</td>\n",
       "      <td>153.44 -28.06</td>\n",
       "      <td>debit</td>\n",
       "      <td>8</td>\n",
       "    </tr>\n",
       "  </tbody>\n",
       "</table>\n",
       "</div>"
      ],
      "text/plain": [
       "       status txn_description  balance    date gender  age  amount  \\\n",
       "0  authorized             POS    35.39  1/8/18      F   26   16.25   \n",
       "1  authorized       SALES-POS    21.20  1/8/18      F   26   14.19   \n",
       "2  authorized             POS     5.71  1/8/18      M   38    6.42   \n",
       "3  authorized       SALES-POS  2117.22  1/8/18      F   40   40.90   \n",
       "4  authorized       SALES-POS    17.95  1/8/18      F   26    3.25   \n",
       "\n",
       "      customer_id       long_lat merchant_long_lat movement month  \n",
       "0  CUS-2487424745  153.41 -27.95     153.38 -27.99    debit     8  \n",
       "1  CUS-2487424745  153.41 -27.95     151.21 -33.87    debit     8  \n",
       "2  CUS-2142601169  151.23 -33.94     151.21 -33.87    debit     8  \n",
       "3  CUS-1614226872  153.10 -27.66     153.05 -26.68    debit     8  \n",
       "4  CUS-2487424745  153.41 -27.95     153.44 -28.06    debit     8  "
      ]
     },
     "execution_count": 121,
     "metadata": {},
     "output_type": "execute_result"
    }
   ],
   "source": [
    "#Dropping Columns\n",
    "\n",
    "filtered_data = data[['status', 'txn_description', 'balance', \n",
    "             'date', 'gender', 'age', 'amount', 'customer_id', 'long_lat',\n",
    "             'merchant_long_lat', 'movement' ]]\n",
    "\n",
    "#creating month column\n",
    "filtered_data[\"month\"]= data['date'].str.split(\"/\", n = 2, expand = True)[1] \n",
    "\n",
    "filtered_data.head()"
   ]
  },
  {
   "cell_type": "markdown",
   "metadata": {},
   "source": [
    "Gather some interesting overall insights about the data. For example -- what is the average transaction amount? How many transactions do customers make each month, on average?"
   ]
  },
  {
   "cell_type": "code",
   "execution_count": 122,
   "metadata": {
    "scrolled": true
   },
   "outputs": [
    {
     "name": "stdout",
     "output_type": "stream",
     "text": [
      "status\n",
      "Number of Unique Values: 2\n",
      "authorized    7717\n",
      "posted        4326\n",
      "Name: status, dtype: int64\n",
      "\n",
      "\n",
      "txn_description\n",
      "Number of Unique Values: 6\n",
      "SALES-POS     3934\n",
      "POS           3783\n",
      "PAYMENT       2600\n",
      "PAY/SALARY     883\n",
      "INTER BANK     742\n",
      "PHONE BANK     101\n",
      "Name: txn_description, dtype: int64\n",
      "\n",
      "\n",
      "date\n",
      "Number of Unique Values: 91\n",
      "28/9/18     174\n",
      "17/8/18     172\n",
      "5/10/18     168\n",
      "17/10/18    162\n",
      "14/9/18     161\n",
      "21/9/18     160\n",
      "3/10/18     160\n",
      "4/10/18     159\n",
      "27/9/18     159\n",
      "19/10/18    158\n",
      "26/10/18    157\n",
      "3/8/18      157\n",
      "24/8/18     156\n",
      "12/10/18    154\n",
      "13/9/18     154\n",
      "31/8/18     153\n",
      "6/9/18      152\n",
      "23/8/18     152\n",
      "2/8/18      152\n",
      "7/9/18      152\n",
      "10/8/18     151\n",
      "18/10/18    150\n",
      "22/8/18     150\n",
      "26/9/18     149\n",
      "5/9/18      149\n",
      "9/8/18      149\n",
      "12/9/18     149\n",
      "19/9/18     148\n",
      "24/10/18    148\n",
      "10/10/18    146\n",
      "           ... \n",
      "11/9/18     118\n",
      "4/8/18      118\n",
      "19/8/18     118\n",
      "16/9/18     118\n",
      "25/9/18     117\n",
      "14/8/18     117\n",
      "26/8/18     116\n",
      "7/8/18      114\n",
      "23/9/18     114\n",
      "9/10/18     113\n",
      "15/10/18    112\n",
      "22/10/18    112\n",
      "17/9/18     112\n",
      "27/8/18     111\n",
      "12/8/18     109\n",
      "3/9/18      109\n",
      "30/9/18     107\n",
      "7/10/18     105\n",
      "13/8/18     104\n",
      "10/9/18     103\n",
      "1/10/18     103\n",
      "29/10/18    102\n",
      "16/10/18    102\n",
      "24/9/18     101\n",
      "5/8/18      100\n",
      "6/8/18       99\n",
      "20/8/18      97\n",
      "23/10/18     96\n",
      "8/10/18      95\n",
      "30/10/18     89\n",
      "Name: date, Length: 91, dtype: int64\n",
      "\n",
      "\n",
      "gender\n",
      "Number of Unique Values: 2\n",
      "M    6285\n",
      "F    5758\n",
      "Name: gender, dtype: int64\n",
      "\n",
      "\n",
      "customer_id\n",
      "Number of Unique Values: 100\n",
      "CUS-2487424745    578\n",
      "CUS-2142601169    303\n",
      "CUS-3026014945    292\n",
      "CUS-3378712515    260\n",
      "CUS-1614226872    259\n",
      "CUS-1196156254    245\n",
      "CUS-2695611575    239\n",
      "CUS-51506836      239\n",
      "CUS-860700529     233\n",
      "CUS-1669695324    230\n",
      "CUS-127297539     199\n",
      "CUS-883482547     178\n",
      "CUS-4142663097    174\n",
      "CUS-443776336     170\n",
      "CUS-4023861240    169\n",
      "CUS-164374203     166\n",
      "CUS-2663907001    165\n",
      "CUS-325142416     163\n",
      "CUS-3142625864    163\n",
      "CUS-1433879684    155\n",
      "CUS-537508723     152\n",
      "CUS-527400765     151\n",
      "CUS-2178051368    148\n",
      "CUS-3336454548    145\n",
      "CUS-1790886359    144\n",
      "CUS-3325710106    141\n",
      "CUS-2376382098    139\n",
      "CUS-3117610635    139\n",
      "CUS-3129499595    137\n",
      "CUS-261674136     134\n",
      "                 ... \n",
      "CUS-1140341822     80\n",
      "CUS-2738291516     80\n",
      "CUS-880898248      78\n",
      "CUS-423725039      78\n",
      "CUS-1816693151     78\n",
      "CUS-134833760      77\n",
      "CUS-134193016      76\n",
      "CUS-1220154422     75\n",
      "CUS-1005756958     73\n",
      "CUS-2484453271     72\n",
      "CUS-2370108457     67\n",
      "CUS-2819545904     63\n",
      "CUS-331942311      62\n",
      "CUS-3989008654     62\n",
      "CUS-2630892467     60\n",
      "CUS-2110742437     58\n",
      "CUS-72755508       58\n",
      "CUS-55310383       57\n",
      "CUS-3431016847     55\n",
      "CUS-3255104878     52\n",
      "CUS-3174332735     51\n",
      "CUS-3151318058     49\n",
      "CUS-326006476      47\n",
      "CUS-2977593493     44\n",
      "CUS-1233833708     44\n",
      "CUS-3395687666     40\n",
      "CUS-3201519139     37\n",
      "CUS-1646183815     34\n",
      "CUS-495599312      31\n",
      "CUS-1739931018     25\n",
      "Name: customer_id, Length: 100, dtype: int64\n",
      "\n",
      "\n",
      "long_lat\n",
      "Number of Unique Values: 100\n",
      "153.41 -27.95    578\n",
      "151.23 -33.94    303\n",
      "116.06 -32.00    292\n",
      "145.45 -37.74    260\n",
      "153.10 -27.66    259\n",
      "138.52 -35.01    245\n",
      "153.32 -27.93    239\n",
      "152.99 -27.49    239\n",
      "153.05 -27.61    233\n",
      "115.74 -31.72    230\n",
      "115.79 -31.79    199\n",
      "150.82 -34.01    178\n",
      "130.90 -12.37    174\n",
      "115.98 -32.07    170\n",
      "147.63 -22.84    169\n",
      "150.68 -33.79    166\n",
      "151.12 -33.89    165\n",
      "130.84 -12.45    163\n",
      "145.16 -37.84    163\n",
      "145.00 -37.83    155\n",
      "147.08 -37.97    152\n",
      "143.83 -37.66    151\n",
      "145.73 -17.03    148\n",
      "153.41 -28.01    145\n",
      "145.17 -37.84    144\n",
      "145.04 -37.92    141\n",
      "145.13 -37.70    139\n",
      "151.04 -33.80    139\n",
      "150.92 -33.77    137\n",
      "121.48 -30.75    134\n",
      "                ... \n",
      "144.97 -37.42     80\n",
      "150.90 -33.78     80\n",
      "116.00 -31.88     78\n",
      "115.83 -31.90     78\n",
      "144.89 -37.69     78\n",
      "116.02 -31.87     77\n",
      "145.06 -37.95     76\n",
      "150.50 -23.40     75\n",
      "153.03 -27.51     73\n",
      "145.23 -37.86     72\n",
      "144.99 -37.90     67\n",
      "148.16 -23.52     63\n",
      "151.27 -33.85     62\n",
      "115.79 -31.94     62\n",
      "149.03 -34.97     60\n",
      "138.56 -35.27     58\n",
      "150.62 -33.76     58\n",
      "149.83 -29.47     57\n",
      "151.08 -33.93     55\n",
      "145.35 -38.03     52\n",
      "144.66 -37.91     51\n",
      "144.98 -37.84     49\n",
      "151.18 -33.80     47\n",
      "145.18 -37.90     44\n",
      "144.96 -37.69     44\n",
      "149.03 -35.25     40\n",
      "149.19 -21.15     37\n",
      "145.09 -37.82     34\n",
      "130.98 -12.49     31\n",
      "147.61 -37.82     25\n",
      "Name: long_lat, Length: 100, dtype: int64\n",
      "\n",
      "\n",
      "merchant_long_lat\n",
      "Number of Unique Values: 2703\n",
      "151.21 -33.87    145\n",
      "144.96 -37.82     85\n",
      "144.97 -37.81     59\n",
      "144.96 -37.81     56\n",
      "153.02 -27.47     46\n",
      "151.18 -33.8      45\n",
      "151.2 -33.87      44\n",
      "151.21 -33.84     36\n",
      "153.03 -27.47     36\n",
      "144.95 -37.82     35\n",
      "130.84 -12.46     33\n",
      "144.97 -37.82     29\n",
      "151.21 -33.86     28\n",
      "115.86 -31.95     26\n",
      "151.21 -33.88     25\n",
      "144.89 -37.77     24\n",
      "153.43 -28.04     23\n",
      "144.22 -37.06     22\n",
      "153.41 -27.97     22\n",
      "153.43 -28.03     22\n",
      "140.78 -37.83     22\n",
      "150.92 -33.92     21\n",
      "153.42 -27.97     20\n",
      "115.86 -31.87     20\n",
      "115.8 -31.9       20\n",
      "145.23 -37.81     20\n",
      "115.07 -33.95     20\n",
      "146.09 -37.05     19\n",
      "145.31 -37.76     19\n",
      "145.03 -37.74     18\n",
      "                ... \n",
      "145.13 -37.98      1\n",
      "144.25 -23.44      1\n",
      "144.67 -37.84      1\n",
      "150.92 -33.72      1\n",
      "144.69 -37.85      1\n",
      "151.97 -27.55      1\n",
      "145.2 -36.06       1\n",
      "130.87 -12.43      1\n",
      "153.19 -27.74      1\n",
      "144.86 -37.84      1\n",
      "144.37 -38.19      1\n",
      "138.59 -34.88      1\n",
      "150.63 -34.91      1\n",
      "153.09 -30.32      1\n",
      "115.78 -32.23      1\n",
      "145.33 -37.79      1\n",
      "115.8 -32.03       1\n",
      "145.04 -37.9       1\n",
      "115.88 -31.92      1\n",
      "153.01 -27.36      1\n",
      "115.82 -31.91      1\n",
      "151.02 -33.78      1\n",
      "144.72 -37.63      1\n",
      "145.5 -38.21       1\n",
      "147.26 -42.8       1\n",
      "138.55 -35.02      1\n",
      "145.15 -37.82      1\n",
      "145.34 -37.81      1\n",
      "153.03 -27.59      1\n",
      "145.26 -38.03      1\n",
      "Name: merchant_long_lat, Length: 2703, dtype: int64\n",
      "\n",
      "\n",
      "movement\n",
      "Number of Unique Values: 2\n",
      "debit     11160\n",
      "credit      883\n",
      "Name: movement, dtype: int64\n",
      "\n",
      "\n",
      "month\n",
      "Number of Unique Values: 3\n",
      "10    4087\n",
      "9     4013\n",
      "8     3943\n",
      "Name: month, dtype: int64\n",
      "\n",
      "\n"
     ]
    }
   ],
   "source": [
    "for col in filtered_data.select_dtypes(include=['object']).columns:\n",
    "    print(col)\n",
    "    print(\"Number of Unique Values: \", end = '')\n",
    "    print(filtered_data[col].nunique())\n",
    "    print(filtered_data[col].value_counts())\n",
    "    print('\\n')"
   ]
  },
  {
   "cell_type": "markdown",
   "metadata": {},
   "source": [
    "# Interesting Insight: Average transaction amount? "
   ]
  },
  {
   "cell_type": "code",
   "execution_count": 123,
   "metadata": {
    "scrolled": false
   },
   "outputs": [
    {
     "name": "stdout",
     "output_type": "stream",
     "text": [
      "Transaction Type: POS\n",
      "Average Transaction Amount: 40.407412106793586\n",
      "Average Number of Transactions: 3783\n",
      "Transaction Type: SALES-POS\n",
      "Average Transaction Amount: 39.90978901881027\n",
      "Average Number of Transactions: 3934\n",
      "Transaction Type: PAYMENT\n",
      "Average Transaction Amount: 77.61307692307692\n",
      "Average Number of Transactions: 2600\n",
      "Transaction Type: INTER BANK\n",
      "Average Transaction Amount: 86.69946091644205\n",
      "Average Number of Transactions: 742\n",
      "Transaction Type: PAY/SALARY\n",
      "Average Transaction Amount: 1898.7280294450716\n",
      "Average Number of Transactions: 883\n",
      "Transaction Type: PHONE BANK\n",
      "Average Transaction Amount: 106.0990099009901\n",
      "Average Number of Transactions: 101\n"
     ]
    }
   ],
   "source": [
    "#for each transaction type, find the average transaction amount\n",
    "\n",
    "for transaction in filtered_data.txn_description.unique():\n",
    "    print(\"Transaction Type: \" + transaction)\n",
    "    print(\"Average Transaction Amount: \", end= '')\n",
    "    print(filtered_data[filtered_data['txn_description'] ==transaction].amount.mean())\n",
    "    print(\"Average Number of Transactions: \", end = '')\n",
    "    print(filtered_data[filtered_data['txn_description'] ==transaction].shape[0])"
   ]
  },
  {
   "cell_type": "code",
   "execution_count": 124,
   "metadata": {},
   "outputs": [],
   "source": [
    "#remove outliers\n",
    "# Q1 = filtered_data.quantile(0.25)\n",
    "# Q3 = filtered_data.quantile(0.75)\n",
    "# IQR = Q3 - Q1\n",
    "\n",
    "# filtered_data = filtered_data[~((filtered_data < (Q1 - 1.5 * IQR)) |(filtered_data > (Q3 + 1.5 * IQR))).any(axis=1)]"
   ]
  },
  {
   "cell_type": "code",
   "execution_count": 125,
   "metadata": {},
   "outputs": [],
   "source": [
    "# for transaction in filtered_data.txn_description.unique():\n",
    "#     print(\"Transaction Type: \" + transaction)\n",
    "#     print(\"Average Transaction Amount: \", end= '')\n",
    "#     print(filtered_data[filtered_data['txn_description'] ==transaction].amount.mean())\n",
    "#     print(\"Average Number of Transactions: \", end = '')\n",
    "#     print(filtered_data[filtered_data['txn_description'] ==transaction].shape[0])"
   ]
  },
  {
   "cell_type": "markdown",
   "metadata": {},
   "source": [
    "# Interesting Insight: Distribution of Transaction Purchase Amount"
   ]
  },
  {
   "cell_type": "code",
   "execution_count": 126,
   "metadata": {
    "scrolled": false
   },
   "outputs": [
    {
     "data": {
      "text/plain": [
       "count    7717.000000\n",
       "mean       40.153732\n",
       "std       149.833070\n",
       "min         0.100000\n",
       "25%        12.080000\n",
       "50%        19.700000\n",
       "75%        33.910000\n",
       "max      7081.090000\n",
       "Name: amount, dtype: float64"
      ]
     },
     "execution_count": 126,
     "metadata": {},
     "output_type": "execute_result"
    }
   ],
   "source": [
    "POS_data = filtered_data[filtered_data.txn_description.isin(['POS', 'SALES-POS'])]\n",
    "POS_data.amount.describe()"
   ]
  },
  {
   "cell_type": "code",
   "execution_count": 127,
   "metadata": {},
   "outputs": [],
   "source": [
    "# #remove outliers\n",
    "Q1 = POS_data.quantile(0.25)\n",
    "Q3 = POS_data.quantile(0.75)\n",
    "IQR = Q3 - Q1\n",
    "\n",
    "POS_data_no_out = POS_data[~((POS_data < (Q1 - 1.5 * IQR)) |(POS_data > (Q3 + 1.5 * IQR))).any(axis=1)]\n",
    "# transaction_data.amount.describe()"
   ]
  },
  {
   "cell_type": "code",
   "execution_count": 128,
   "metadata": {},
   "outputs": [
    {
     "data": {
      "image/png": "[encoded data removed]",
      "text/plain": [
       "<Figure size 432x288 with 1 Axes>"
      ]
     },
     "metadata": {
      "needs_background": "light"
     },
     "output_type": "display_data"
    }
   ],
   "source": [
    "ax = sns.boxplot(x='amount', data = POS_data_no_out).set_title('Boxplot of Purchase Transaction Amount')"
   ]
  },
  {
   "cell_type": "code",
   "execution_count": 129,
   "metadata": {},
   "outputs": [
    {
     "data": {
      "text/plain": [
       "Text(0, 0.5, 'Frequency')"
      ]
     },
     "execution_count": 129,
     "metadata": {},
     "output_type": "execute_result"
    },
    {
     "data": {
      "image/png": "[encoded data removed]",
      "text/plain": [
       "<Figure size 432x288 with 1 Axes>"
      ]
     },
     "metadata": {
      "needs_background": "light"
     },
     "output_type": "display_data"
    }
   ],
   "source": [
    "sns.distplot(POS_data_no_out.amount)\n",
    "plt.title('Histogram of Purchase Transaction Amount', fontsize=18)\n",
    "plt.xlabel('Transaction Amount', fontsize=16)\n",
    "plt.ylabel('Frequency', fontsize=16)"
   ]
  },
  {
   "cell_type": "markdown",
   "metadata": {},
   "source": [
    "# Average Purchase Transaction By Age"
   ]
  },
  {
   "cell_type": "code",
   "execution_count": 130,
   "metadata": {
    "scrolled": false
   },
   "outputs": [
    {
     "data": {
      "image/png": "[encoded data removed]",
      "text/plain": [
       "<Figure size 432x288 with 1 Axes>"
      ]
     },
     "metadata": {
      "needs_background": "light"
     },
     "output_type": "display_data"
    }
   ],
   "source": [
    "POS_data_by_age = POS_data_no_out.groupby(['age'], as_index=False).mean()\n",
    "ax = sns.barplot(x=\"age\", y=\"amount\", data= POS_data_by_age)\n",
    "\n",
    "# sns.distplot(transaction_by_age.amount)\n",
    "# plt.title('Histogram of Purchase Transaction Amount', fontsize=18)\n",
    "# plt.xlabel('Transaction Amount', fontsize=16)\n",
    "# plt.ylabel('Frequency', fontsize=16)"
   ]
  },
  {
   "cell_type": "markdown",
   "metadata": {},
   "source": [
    "# Average Account Balance By Age"
   ]
  },
  {
   "cell_type": "code",
   "execution_count": 131,
   "metadata": {
    "scrolled": true
   },
   "outputs": [
    {
     "data": {
      "image/png": "[encoded data removed]",
      "text/plain": [
       "<Figure size 432x288 with 1 Axes>"
      ]
     },
     "metadata": {
      "needs_background": "light"
     },
     "output_type": "display_data"
    }
   ],
   "source": [
    "ax = sns.barplot(x=\"age\", y=\"balance\", data= POS_data_by_age)"
   ]
  },
  {
   "cell_type": "markdown",
   "metadata": {},
   "source": [
    "# Number of Purchase Transactions By Age"
   ]
  },
  {
   "cell_type": "code",
   "execution_count": 132,
   "metadata": {},
   "outputs": [
    {
     "data": {
      "image/png": "[encoded data removed]",
      "text/plain": [
       "<Figure size 432x288 with 1 Axes>"
      ]
     },
     "metadata": {
      "needs_background": "light"
     },
     "output_type": "display_data"
    }
   ],
   "source": [
    "POS_data_count_by_age = POS_data.groupby(['age'], as_index=False).count()\n",
    "ax = sns.barplot(x=\"age\", y=\"amount\", data= POS_data_count_by_age)"
   ]
  },
  {
   "cell_type": "markdown",
   "metadata": {},
   "source": [
    "# Interesting Insight: Salary by Gender"
   ]
  },
  {
   "cell_type": "code",
   "execution_count": 133,
   "metadata": {},
   "outputs": [
    {
     "data": {
      "text/plain": [
       "count     883.000000\n",
       "mean     1898.728029\n",
       "std      1150.364621\n",
       "min       576.000000\n",
       "25%      1013.670000\n",
       "50%      1626.480000\n",
       "75%      2538.680000\n",
       "max      8835.980000\n",
       "Name: amount, dtype: float64"
      ]
     },
     "execution_count": 133,
     "metadata": {},
     "output_type": "execute_result"
    }
   ],
   "source": [
    "filtered_data[filtered_data.txn_description == 'PAY/SALARY'].amount.describe()"
   ]
  },
  {
   "cell_type": "code",
   "execution_count": 134,
   "metadata": {
    "scrolled": true
   },
   "outputs": [
    {
     "data": {
      "image/png": "[encoded data removed]",
      "text/plain": [
       "<Figure size 432x288 with 1 Axes>"
      ]
     },
     "metadata": {
      "needs_background": "light"
     },
     "output_type": "display_data"
    }
   ],
   "source": [
    "ax = sns.boxplot(x=\"gender\", y=filtered_data[filtered_data.txn_description == 'PAY/SALARY'].amount, data=filtered_data)"
   ]
  },
  {
   "cell_type": "markdown",
   "metadata": {},
   "source": [
    "# Interesting Insight: How many transactions do customers make each month, on average?"
   ]
  },
  {
   "cell_type": "code",
   "execution_count": 202,
   "metadata": {
    "scrolled": true
   },
   "outputs": [
    {
     "name": "stdout",
     "output_type": "stream",
     "text": [
      "Aug\n",
      "Average Transaction Amount: 185.12186659903654\n",
      "Average Number of Transactions: 3943\n",
      "Sep\n",
      "Average Transaction Amount: 182.04590331422853\n",
      "Average Number of Transactions: 4013\n",
      "Oct\n",
      "Average Transaction Amount: 196.42732321996542\n",
      "Average Number of Transactions: 4087\n"
     ]
    }
   ],
   "source": [
    "#create months column\n",
    "\n",
    "filtered_data['month'] = filtered_data['month'].replace({'8': 'Aug', '9': 'Sep', '10': 'Oct'})\n",
    "\n",
    "for month in filtered_data.month.unique():\n",
    "    print(month)\n",
    "    print(\"Average Transaction Amount: \", end= '')\n",
    "    print(filtered_data[filtered_data['month'] == month].amount.mean())\n",
    "    print(\"Average Number of Transactions: \", end = '')\n",
    "    print(filtered_data[filtered_data['month'] == month].shape[0])"
   ]
  },
  {
   "cell_type": "code",
   "execution_count": 145,
   "metadata": {},
   "outputs": [
    {
     "data": {
      "image/png": "[encoded data removed]",
      "text/plain": [
       "<Figure size 432x288 with 1 Axes>"
      ]
     },
     "metadata": {
      "needs_background": "light"
     },
     "output_type": "display_data"
    }
   ],
   "source": [
    "transaction_data_mean = filtered_data.groupby(['month'], as_index=False).mean()\n",
    "transaction_data_mean['month'] = pd.to_numeric(transaction_data_count['month'])\n",
    "transaction_data_mean = transaction_data_mean.sort_values(by=['month'])\n",
    "ax = sns.barplot(x='month', y= 'amount', data= transaction_data_mean)"
   ]
  },
  {
   "cell_type": "code",
   "execution_count": 146,
   "metadata": {},
   "outputs": [
    {
     "data": {
      "image/png": "[encoded data removed]",
      "text/plain": [
       "<Figure size 432x288 with 1 Axes>"
      ]
     },
     "metadata": {
      "needs_background": "light"
     },
     "output_type": "display_data"
    }
   ],
   "source": [
    "transaction_data_count = filtered_data.groupby(['month'], as_index=False).count()\n",
    "transaction_data_count['month'] = pd.to_numeric(transaction_data_count['month'])\n",
    "transaction_data_count = transaction_data_count.sort_values(by=['month'])\n",
    "ax = sns.barplot(x='month', y= 'amount', data= transaction_data_count)"
   ]
  },
  {
   "cell_type": "markdown",
   "metadata": {},
   "source": [
    "Segment the dataset by transaction date and time. Visualise transaction volume and spending over the course of an average day or week. Consider the effect of any outliers that may distort your analysis."
   ]
  },
  {
   "cell_type": "code",
   "execution_count": null,
   "metadata": {},
   "outputs": [],
   "source": []
  },
  {
   "cell_type": "markdown",
   "metadata": {},
   "source": [
    "For a challenge – what insights can you draw from the location information provided in the dataset?"
   ]
  },
  {
   "cell_type": "code",
   "execution_count": null,
   "metadata": {},
   "outputs": [],
   "source": []
  },
  {
   "cell_type": "code",
   "execution_count": null,
   "metadata": {},
   "outputs": [],
   "source": []
  },
  {
   "cell_type": "code",
   "execution_count": null,
   "metadata": {},
   "outputs": [],
   "source": []
  },
  {
   "cell_type": "code",
   "execution_count": null,
   "metadata": {},
   "outputs": [],
   "source": []
  }
 ],
 "metadata": {
  "kernelspec": {
   "display_name": "Python 3",
   "language": "python",
   "name": "python3"
  },
  "language_info": {
   "codemirror_mode": {
    "name": "ipython",
    "version": 3
   },
   "file_extension": ".py",
   "mimetype": "text/x-python",
   "name": "python",
   "nbconvert_exporter": "python",
   "pygments_lexer": "ipython3",
   "version": "3.7.3"
  }
 },
 "nbformat": 4,
 "nbformat_minor": 2
}
